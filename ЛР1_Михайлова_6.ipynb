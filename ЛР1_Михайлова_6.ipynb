{
 "cells": [
  {
   "cell_type": "markdown",
   "metadata": {
    "id": "bri_pAriNFqN"
   },
   "source": [
    "**Цель работы:**\n",
    "\n",
    "Осуществить предварительную обработку данных csv-файла, выявить и устранить проблемы в этих данных."
   ]
  },
  {
   "cell_type": "markdown",
   "metadata": {
    "id": "r_e-GeJmgZ8l"
   },
   "source": [
    "# Загрузка набора данных"
   ]
  },
  {
   "cell_type": "markdown",
   "metadata": {
    "id": "eeq9ZAbSguQS"
   },
   "source": [
    "### Описание предметной области"
   ]
  },
  {
   "cell_type": "markdown",
   "metadata": {
    "id": "XHbH8zNIg0Ib"
   },
   "source": [
    "Вариант №6\n",
    "\n",
    "Набор данных: visits.csv\n",
    "\n",
    "Атрибуты:\n",
    "User_Id - идентификатор пользователя\n",
    "Region - страна пользователя\n",
    "Device - тип устройства\n",
    "Channel - канал привлечения\n",
    "Session_Start - время начала сессии\n",
    "Session_End - время конца сессии\n",
    "\n",
    "Предметная область: В представленном наборе данных фиксируются сессии пользователей интернет-сервиса. Каждая строка набора данных соответствует одной пользовательской сессии и содержит такие характеристики характеристики: идентификатор пользователя, страна, тип устройства, канал привлечения, время начала и конца сессии. Предметная область может включать анализ пользовательской активности и аудитории сервиса по устройствам и каналам привлечения трафика."
   ]
  },
  {
   "cell_type": "markdown",
   "metadata": {
    "id": "Lwin9ia7hT1i"
   },
   "source": [
    "### 1.Чтение файла (набора данных)"
   ]
  },
  {
   "cell_type": "code",
   "execution_count": 2,
   "metadata": {
    "id": "a5dYQO5YhOYa"
   },
   "outputs": [],
   "source": [
    "import pandas as pd\n",
    "df = pd.read_csv('visits.csv', sep=\";\")"
   ]
  },
  {
   "cell_type": "markdown",
   "metadata": {
    "id": "p82p53SvhjLN"
   },
   "source": [
    "### 2. Обзор данных"
   ]
  },
  {
   "cell_type": "markdown",
   "metadata": {
    "id": "eAYzXaLrh-qh"
   },
   "source": [
    "2.1 Вывод первых 20 строк с помощью метода head."
   ]
  },
  {
   "cell_type": "code",
   "execution_count": 3,
   "metadata": {
    "id": "7yMo3VZ_hotx"
   },
   "outputs": [
    {
     "data": {
      "text/html": [
       "<div>\n",
       "<style scoped>\n",
       "    .dataframe tbody tr th:only-of-type {\n",
       "        vertical-align: middle;\n",
       "    }\n",
       "\n",
       "    .dataframe tbody tr th {\n",
       "        vertical-align: top;\n",
       "    }\n",
       "\n",
       "    .dataframe thead th {\n",
       "        text-align: right;\n",
       "    }\n",
       "</style>\n",
       "<table border=\"1\" class=\"dataframe\">\n",
       "  <thead>\n",
       "    <tr style=\"text-align: right;\">\n",
       "      <th></th>\n",
       "      <th>User_Id</th>\n",
       "      <th>Region</th>\n",
       "      <th>Device</th>\n",
       "      <th>Channel</th>\n",
       "      <th>Session_Start</th>\n",
       "      <th>SESSION_End</th>\n",
       "    </tr>\n",
       "  </thead>\n",
       "  <tbody>\n",
       "    <tr>\n",
       "      <th>0</th>\n",
       "      <td>9,81449E+11</td>\n",
       "      <td>United States</td>\n",
       "      <td>iPhone</td>\n",
       "      <td>organic</td>\n",
       "      <td>01.05.2019 2:36</td>\n",
       "      <td>01.05.2019 2:45</td>\n",
       "    </tr>\n",
       "    <tr>\n",
       "      <th>1</th>\n",
       "      <td>2,78966E+11</td>\n",
       "      <td>United States</td>\n",
       "      <td>iPhone</td>\n",
       "      <td>organic</td>\n",
       "      <td>01.05.2019 4:46</td>\n",
       "      <td>01.05.2019 4:47</td>\n",
       "    </tr>\n",
       "    <tr>\n",
       "      <th>2</th>\n",
       "      <td>5,90706E+11</td>\n",
       "      <td>United States</td>\n",
       "      <td>Mac</td>\n",
       "      <td>organic</td>\n",
       "      <td>01.05.2019 14:09</td>\n",
       "      <td>01.05.2019 15:32</td>\n",
       "    </tr>\n",
       "    <tr>\n",
       "      <th>3</th>\n",
       "      <td>3,26434E+11</td>\n",
       "      <td>United States</td>\n",
       "      <td>Android</td>\n",
       "      <td>TipTop</td>\n",
       "      <td>01.05.2019 0:29</td>\n",
       "      <td>01.05.2019 0:54</td>\n",
       "    </tr>\n",
       "    <tr>\n",
       "      <th>4</th>\n",
       "      <td>3,49774E+11</td>\n",
       "      <td>United States</td>\n",
       "      <td>Mac</td>\n",
       "      <td>organic</td>\n",
       "      <td>01.05.2019 3:33</td>\n",
       "      <td>01.05.2019 3:57</td>\n",
       "    </tr>\n",
       "    <tr>\n",
       "      <th>5</th>\n",
       "      <td>43958116050</td>\n",
       "      <td>United States</td>\n",
       "      <td>Android</td>\n",
       "      <td>organic</td>\n",
       "      <td>01.05.2019 9:03</td>\n",
       "      <td>01.05.2019 10:08</td>\n",
       "    </tr>\n",
       "    <tr>\n",
       "      <th>6</th>\n",
       "      <td>1,85365E+11</td>\n",
       "      <td>United States</td>\n",
       "      <td>iPhone</td>\n",
       "      <td>organic</td>\n",
       "      <td>01.05.2019 9:37</td>\n",
       "      <td>01.05.2019 10:00</td>\n",
       "    </tr>\n",
       "    <tr>\n",
       "      <th>7</th>\n",
       "      <td>1,00971E+11</td>\n",
       "      <td>United States</td>\n",
       "      <td>Mac</td>\n",
       "      <td>TipTop</td>\n",
       "      <td>01.05.2019 4:39</td>\n",
       "      <td>01.05.2019 4:57</td>\n",
       "    </tr>\n",
       "    <tr>\n",
       "      <th>8</th>\n",
       "      <td>3,70456E+11</td>\n",
       "      <td>United States</td>\n",
       "      <td>iPhone</td>\n",
       "      <td>organic</td>\n",
       "      <td>01.05.2019 14:44</td>\n",
       "      <td>01.05.2019 15:41</td>\n",
       "    </tr>\n",
       "    <tr>\n",
       "      <th>9</th>\n",
       "      <td>1,41838E+11</td>\n",
       "      <td>United States</td>\n",
       "      <td>Mac</td>\n",
       "      <td>FaceBoom</td>\n",
       "      <td>01.05.2019 6:20</td>\n",
       "      <td>01.05.2019 6:54</td>\n",
       "    </tr>\n",
       "    <tr>\n",
       "      <th>10</th>\n",
       "      <td>9,24309E+11</td>\n",
       "      <td>United States</td>\n",
       "      <td>iPhone</td>\n",
       "      <td>organic</td>\n",
       "      <td>01.05.2019 20:03</td>\n",
       "      <td>01.05.2019 20:19</td>\n",
       "    </tr>\n",
       "    <tr>\n",
       "      <th>11</th>\n",
       "      <td>7,74938E+11</td>\n",
       "      <td>United States</td>\n",
       "      <td>iPhone</td>\n",
       "      <td>MediaTornado</td>\n",
       "      <td>01.05.2019 14:01</td>\n",
       "      <td>01.05.2019 14:29</td>\n",
       "    </tr>\n",
       "    <tr>\n",
       "      <th>12</th>\n",
       "      <td>2,44879E+11</td>\n",
       "      <td>United States</td>\n",
       "      <td>iPhone</td>\n",
       "      <td>MediaTornado</td>\n",
       "      <td>01.05.2019 1:59</td>\n",
       "      <td>01.05.2019 2:21</td>\n",
       "    </tr>\n",
       "    <tr>\n",
       "      <th>13</th>\n",
       "      <td>1,57877E+11</td>\n",
       "      <td>United States</td>\n",
       "      <td>Mac</td>\n",
       "      <td>organic</td>\n",
       "      <td>01.05.2019 10:25</td>\n",
       "      <td>01.05.2019 10:35</td>\n",
       "    </tr>\n",
       "    <tr>\n",
       "      <th>14</th>\n",
       "      <td>5,24629E+11</td>\n",
       "      <td>United States</td>\n",
       "      <td>Mac</td>\n",
       "      <td>organic</td>\n",
       "      <td>01.05.2019 17:06</td>\n",
       "      <td>01.05.2019 18:05</td>\n",
       "    </tr>\n",
       "    <tr>\n",
       "      <th>15</th>\n",
       "      <td>1,36227E+11</td>\n",
       "      <td>United States</td>\n",
       "      <td>PC</td>\n",
       "      <td>organic</td>\n",
       "      <td>01.05.2019 19:34</td>\n",
       "      <td>01.05.2019 19:39</td>\n",
       "    </tr>\n",
       "    <tr>\n",
       "      <th>16</th>\n",
       "      <td>6,84979E+11</td>\n",
       "      <td>United States</td>\n",
       "      <td>iPhone</td>\n",
       "      <td>TipTop</td>\n",
       "      <td>01.05.2019 1:51</td>\n",
       "      <td>01.05.2019 2:12</td>\n",
       "    </tr>\n",
       "    <tr>\n",
       "      <th>17</th>\n",
       "      <td>9,05776E+11</td>\n",
       "      <td>United States</td>\n",
       "      <td>iPhone</td>\n",
       "      <td>organic</td>\n",
       "      <td>01.05.2019 14:26</td>\n",
       "      <td>01.05.2019 14:35</td>\n",
       "    </tr>\n",
       "    <tr>\n",
       "      <th>18</th>\n",
       "      <td>15174034813</td>\n",
       "      <td>United States</td>\n",
       "      <td>iPhone</td>\n",
       "      <td>FaceBoom</td>\n",
       "      <td>01.05.2019 15:34</td>\n",
       "      <td>01.05.2019 15:56</td>\n",
       "    </tr>\n",
       "    <tr>\n",
       "      <th>19</th>\n",
       "      <td>1,88246E+11</td>\n",
       "      <td>United States</td>\n",
       "      <td>Android</td>\n",
       "      <td>FaceBoom</td>\n",
       "      <td>01.05.2019 23:09</td>\n",
       "      <td>01.05.2019 23:21</td>\n",
       "    </tr>\n",
       "  </tbody>\n",
       "</table>\n",
       "</div>"
      ],
      "text/plain": [
       "        User_Id         Region   Device       Channel     Session_Start  \\\n",
       "0   9,81449E+11  United States   iPhone       organic   01.05.2019 2:36   \n",
       "1   2,78966E+11  United States   iPhone       organic   01.05.2019 4:46   \n",
       "2   5,90706E+11  United States      Mac       organic  01.05.2019 14:09   \n",
       "3   3,26434E+11  United States  Android        TipTop   01.05.2019 0:29   \n",
       "4   3,49774E+11  United States      Mac       organic   01.05.2019 3:33   \n",
       "5   43958116050  United States  Android       organic   01.05.2019 9:03   \n",
       "6   1,85365E+11  United States   iPhone       organic   01.05.2019 9:37   \n",
       "7   1,00971E+11  United States      Mac        TipTop   01.05.2019 4:39   \n",
       "8   3,70456E+11  United States   iPhone       organic  01.05.2019 14:44   \n",
       "9   1,41838E+11  United States      Mac      FaceBoom   01.05.2019 6:20   \n",
       "10  9,24309E+11  United States   iPhone       organic  01.05.2019 20:03   \n",
       "11  7,74938E+11  United States   iPhone  MediaTornado  01.05.2019 14:01   \n",
       "12  2,44879E+11  United States   iPhone  MediaTornado   01.05.2019 1:59   \n",
       "13  1,57877E+11  United States      Mac       organic  01.05.2019 10:25   \n",
       "14  5,24629E+11  United States      Mac       organic  01.05.2019 17:06   \n",
       "15  1,36227E+11  United States       PC       organic  01.05.2019 19:34   \n",
       "16  6,84979E+11  United States   iPhone        TipTop   01.05.2019 1:51   \n",
       "17  9,05776E+11  United States   iPhone       organic  01.05.2019 14:26   \n",
       "18  15174034813  United States   iPhone      FaceBoom  01.05.2019 15:34   \n",
       "19  1,88246E+11  United States  Android      FaceBoom  01.05.2019 23:09   \n",
       "\n",
       "         SESSION_End  \n",
       "0    01.05.2019 2:45  \n",
       "1    01.05.2019 4:47  \n",
       "2   01.05.2019 15:32  \n",
       "3    01.05.2019 0:54  \n",
       "4    01.05.2019 3:57  \n",
       "5   01.05.2019 10:08  \n",
       "6   01.05.2019 10:00  \n",
       "7    01.05.2019 4:57  \n",
       "8   01.05.2019 15:41  \n",
       "9    01.05.2019 6:54  \n",
       "10  01.05.2019 20:19  \n",
       "11  01.05.2019 14:29  \n",
       "12   01.05.2019 2:21  \n",
       "13  01.05.2019 10:35  \n",
       "14  01.05.2019 18:05  \n",
       "15  01.05.2019 19:39  \n",
       "16   01.05.2019 2:12  \n",
       "17  01.05.2019 14:35  \n",
       "18  01.05.2019 15:56  \n",
       "19  01.05.2019 23:21  "
      ]
     },
     "execution_count": 3,
     "metadata": {},
     "output_type": "execute_result"
    }
   ],
   "source": [
    "df.head(20)"
   ]
  },
  {
   "cell_type": "markdown",
   "metadata": {
    "id": "Ze-lXxLMhpWv"
   },
   "source": [
    "2.2 Оценка данных с помощью метода info."
   ]
  },
  {
   "cell_type": "code",
   "execution_count": 4,
   "metadata": {
    "id": "bjhngmaLiGM-"
   },
   "outputs": [
    {
     "name": "stdout",
     "output_type": "stream",
     "text": [
      "<class 'pandas.core.frame.DataFrame'>\n",
      "RangeIndex: 957 entries, 0 to 956\n",
      "Data columns (total 6 columns):\n",
      " #   Column         Non-Null Count  Dtype \n",
      "---  ------         --------------  ----- \n",
      " 0   User_Id        957 non-null    object\n",
      " 1   Region         956 non-null    object\n",
      " 2   Device         955 non-null    object\n",
      " 3   Channel        957 non-null    object\n",
      " 4   Session_Start  955 non-null    object\n",
      " 5   SESSION_End    955 non-null    object\n",
      "dtypes: object(6)\n",
      "memory usage: 45.0+ KB\n"
     ]
    }
   ],
   "source": [
    "df.info()"
   ]
  },
  {
   "cell_type": "markdown",
   "metadata": {
    "id": "eAYzXaLrh-qh"
   },
   "source": [
    "***\n",
    "Оценка данных:\n",
    "- Количество столбцов: 6\n",
    "- Количество строк: 957\n",
    "- Типы данных: object, 6 столбцов\n",
    "\n",
    "Пропуски:\n",
    "* Region - 1 пропуск,\n",
    "* Device - 2 пропуска,\n",
    "* Session_Start - 2 пропуска,\n",
    "* Session_End - 2 пропуска."
   ]
  },
  {
   "cell_type": "markdown",
   "metadata": {
    "id": "06PDq9DAiMAY"
   },
   "source": [
    "2.3 Оценка данных с помощью метода describe."
   ]
  },
  {
   "cell_type": "code",
   "execution_count": 5,
   "metadata": {
    "id": "cTVFwzO1jQfN"
   },
   "outputs": [
    {
     "data": {
      "text/html": [
       "<div>\n",
       "<style scoped>\n",
       "    .dataframe tbody tr th:only-of-type {\n",
       "        vertical-align: middle;\n",
       "    }\n",
       "\n",
       "    .dataframe tbody tr th {\n",
       "        vertical-align: top;\n",
       "    }\n",
       "\n",
       "    .dataframe thead th {\n",
       "        text-align: right;\n",
       "    }\n",
       "</style>\n",
       "<table border=\"1\" class=\"dataframe\">\n",
       "  <thead>\n",
       "    <tr style=\"text-align: right;\">\n",
       "      <th></th>\n",
       "      <th>User_Id</th>\n",
       "      <th>Region</th>\n",
       "      <th>Device</th>\n",
       "      <th>Channel</th>\n",
       "      <th>Session_Start</th>\n",
       "      <th>SESSION_End</th>\n",
       "    </tr>\n",
       "  </thead>\n",
       "  <tbody>\n",
       "    <tr>\n",
       "      <th>count</th>\n",
       "      <td>957</td>\n",
       "      <td>956</td>\n",
       "      <td>955</td>\n",
       "      <td>957</td>\n",
       "      <td>955</td>\n",
       "      <td>955</td>\n",
       "    </tr>\n",
       "    <tr>\n",
       "      <th>unique</th>\n",
       "      <td>865</td>\n",
       "      <td>2</td>\n",
       "      <td>6</td>\n",
       "      <td>4</td>\n",
       "      <td>820</td>\n",
       "      <td>836</td>\n",
       "    </tr>\n",
       "    <tr>\n",
       "      <th>top</th>\n",
       "      <td>1,79085E+11</td>\n",
       "      <td>United States</td>\n",
       "      <td>iPhone</td>\n",
       "      <td>organic</td>\n",
       "      <td>02.05.2019 20:16</td>\n",
       "      <td>02.05.2019 22:48</td>\n",
       "    </tr>\n",
       "    <tr>\n",
       "      <th>freq</th>\n",
       "      <td>4</td>\n",
       "      <td>955</td>\n",
       "      <td>421</td>\n",
       "      <td>612</td>\n",
       "      <td>4</td>\n",
       "      <td>3</td>\n",
       "    </tr>\n",
       "  </tbody>\n",
       "</table>\n",
       "</div>"
      ],
      "text/plain": [
       "            User_Id         Region  Device  Channel     Session_Start  \\\n",
       "count           957            956     955      957               955   \n",
       "unique          865              2       6        4               820   \n",
       "top     1,79085E+11  United States  iPhone  organic  02.05.2019 20:16   \n",
       "freq              4            955     421      612                 4   \n",
       "\n",
       "             SESSION_End  \n",
       "count                955  \n",
       "unique               836  \n",
       "top     02.05.2019 22:48  \n",
       "freq                   3  "
      ]
     },
     "execution_count": 5,
     "metadata": {},
     "output_type": "execute_result"
    }
   ],
   "source": [
    "df.describe()"
   ]
  },
  {
   "cell_type": "markdown",
   "metadata": {
    "id": "oOZUrZGuiGqc"
   },
   "source": [
    "\n",
    "Уникальных пользователеей 865, значит есть повторы и один пользователь встречается несколько раз. \n",
    "\n",
    "Всего встречается 2 страны пользователей.\n",
    "\n",
    "Уникальных типов устройств - 4, каналов привлечения - 6, iPhone встречался чаще всего - 421 раз, а organic - 612.\n"
   ]
  },
  {
   "cell_type": "markdown",
   "metadata": {
    "id": "JTbo0IGDiHxn"
   },
   "source": [
    " 2.4 Оценка названий столбцов"
   ]
  },
  {
   "cell_type": "code",
   "execution_count": 6,
   "metadata": {
    "id": "9NEyi2Odik3e"
   },
   "outputs": [
    {
     "data": {
      "text/plain": [
       "Index(['User_Id', 'Region', 'Device', 'Channel', 'Session_Start',\n",
       "       'SESSION_End'],\n",
       "      dtype='object')"
      ]
     },
     "execution_count": 6,
     "metadata": {},
     "output_type": "execute_result"
    }
   ],
   "source": [
    "df.columns"
   ]
  },
  {
   "cell_type": "code",
   "execution_count": 7,
   "metadata": {
    "id": "QSJBLl4qjjP8"
   },
   "outputs": [
    {
     "data": {
      "text/plain": [
       "Index(['user_id', 'region', 'device', 'channel', 'session_start',\n",
       "       'session_end'],\n",
       "      dtype='object')"
      ]
     },
     "execution_count": 7,
     "metadata": {},
     "output_type": "execute_result"
    }
   ],
   "source": [
    "df.columns = df.columns.str.lower()\n",
    "df.columns"
   ]
  },
  {
   "cell_type": "markdown",
   "metadata": {
    "id": "oOZUrZGuiGqc"
   },
   "source": [
    "\n",
    "Исходные названия столбцов начинались с заглавных букв, а конец сессии написан полностью заглавными. Для удобства обращения все столбцы были приведены к нижнему регистру.\n"
   ]
  },
  {
   "cell_type": "markdown",
   "metadata": {
    "id": "V0tLQcyrjnA_"
   },
   "source": [
    "### 3. Проверка пропусков"
   ]
  },
  {
   "cell_type": "code",
   "execution_count": 8,
   "metadata": {
    "id": "xuTz-Avjj9AW"
   },
   "outputs": [
    {
     "name": "stdout",
     "output_type": "stream",
     "text": [
      "user_id          0\n",
      "region           1\n",
      "device           2\n",
      "channel          0\n",
      "session_start    2\n",
      "session_end      2\n",
      "dtype: int64\n"
     ]
    }
   ],
   "source": [
    "print(df.isna().sum())"
   ]
  },
  {
   "cell_type": "code",
   "execution_count": 9,
   "metadata": {
    "id": "xuTz-Avjj9AW"
   },
   "outputs": [
    {
     "name": "stdout",
     "output_type": "stream",
     "text": [
      "user_id          0\n",
      "region           0\n",
      "device           0\n",
      "channel          0\n",
      "session_start    0\n",
      "session_end      0\n",
      "dtype: int64\n"
     ]
    }
   ],
   "source": [
    "df = df.dropna(subset=['region', 'device', 'session_start', 'session_end'])\n",
    "print(df.isna().sum())"
   ]
  },
  {
   "cell_type": "markdown",
   "metadata": {
    "id": "efZ7vgSVkPQH"
   },
   "source": [
    "\n",
    "Были удалены строки с отсутствующими значениями в ключевых категориальных полях region и device. Пропуски в session_start и session_end также удалены, потому что без них невозможно корректно вычислить длительность сессии. Количество пропусков было слишком маленьким, чтобы серьезно отразиться на данных анализа.\n"
   ]
  },
  {
   "cell_type": "markdown",
   "metadata": {
    "id": "kkyrXXHikEXk"
   },
   "source": [
    "### 4. Проверка дубликатов"
   ]
  },
  {
   "cell_type": "markdown",
   "metadata": {
    "id": "ImqHvr3okIQ6"
   },
   "source": [
    "#### Проверка явных дубликатов"
   ]
  },
  {
   "cell_type": "code",
   "execution_count": 10,
   "metadata": {
    "id": "qu1oh-e5lDZ1"
   },
   "outputs": [
    {
     "data": {
      "text/html": [
       "<div>\n",
       "<style scoped>\n",
       "    .dataframe tbody tr th:only-of-type {\n",
       "        vertical-align: middle;\n",
       "    }\n",
       "\n",
       "    .dataframe tbody tr th {\n",
       "        vertical-align: top;\n",
       "    }\n",
       "\n",
       "    .dataframe thead th {\n",
       "        text-align: right;\n",
       "    }\n",
       "</style>\n",
       "<table border=\"1\" class=\"dataframe\">\n",
       "  <thead>\n",
       "    <tr style=\"text-align: right;\">\n",
       "      <th></th>\n",
       "      <th>user_id</th>\n",
       "      <th>region</th>\n",
       "      <th>device</th>\n",
       "      <th>channel</th>\n",
       "      <th>session_start</th>\n",
       "      <th>session_end</th>\n",
       "    </tr>\n",
       "  </thead>\n",
       "  <tbody>\n",
       "    <tr>\n",
       "      <th>480</th>\n",
       "      <td>1,79085E+11</td>\n",
       "      <td>United States</td>\n",
       "      <td>Mac</td>\n",
       "      <td>organic</td>\n",
       "      <td>01.05.2019 7:27</td>\n",
       "      <td>01.05.2019 7:49</td>\n",
       "    </tr>\n",
       "    <tr>\n",
       "      <th>481</th>\n",
       "      <td>1,79085E+11</td>\n",
       "      <td>United States</td>\n",
       "      <td>Mac</td>\n",
       "      <td>organic</td>\n",
       "      <td>01.05.2019 7:27</td>\n",
       "      <td>01.05.2019 7:49</td>\n",
       "    </tr>\n",
       "  </tbody>\n",
       "</table>\n",
       "</div>"
      ],
      "text/plain": [
       "         user_id         region device  channel    session_start  \\\n",
       "480  1,79085E+11  United States    Mac  organic  01.05.2019 7:27   \n",
       "481  1,79085E+11  United States    Mac  organic  01.05.2019 7:27   \n",
       "\n",
       "         session_end  \n",
       "480  01.05.2019 7:49  \n",
       "481  01.05.2019 7:49  "
      ]
     },
     "execution_count": 10,
     "metadata": {},
     "output_type": "execute_result"
    }
   ],
   "source": [
    "df[df.duplicated()]"
   ]
  },
  {
   "cell_type": "code",
   "execution_count": 11,
   "metadata": {
    "id": "ntArgvChkK26"
   },
   "outputs": [
    {
     "name": "stdout",
     "output_type": "stream",
     "text": [
      "0\n"
     ]
    }
   ],
   "source": [
    "df = df.drop_duplicates().reset_index(drop = True)\n",
    "print(df.duplicated().sum())"
   ]
  },
  {
   "cell_type": "markdown",
   "metadata": {
    "id": "efZ7vgSVkPQH"
   },
   "source": [
    "\n",
    "Метод `drop_duplicates()` убирает явные дубликаты строк и оставляет первое вхождение, остальные дубликаты удаляются. Метод `reset_index` позволяет создать новый DataFrame без пропусков в индексах и используется для обновления индексации, а аргумент `drop=True` нужен, чтобы не создать дополнительный столбец со старыми индексам.\n"
   ]
  },
  {
   "cell_type": "markdown",
   "metadata": {
    "id": "VeHTMcOmkLSw"
   },
   "source": [
    "#### Проверка неявных дубликатов"
   ]
  },
  {
   "cell_type": "code",
   "execution_count": 12,
   "metadata": {
    "id": "-uOPKHlVlGo8"
   },
   "outputs": [
    {
     "name": "stdout",
     "output_type": "stream",
     "text": [
      "region \n",
      " ['United States' 'USA']\n",
      "device \n",
      " ['iPhone' 'Mac' 'Android' 'PC' 'MAC' 'IPHONE']\n",
      "channel \n",
      " ['organic' 'TipTop' 'FaceBoom' 'MediaTornado']\n"
     ]
    }
   ],
   "source": [
    "unique_c = ['region', 'device', 'channel']\n",
    "for i in unique_c:\n",
    "  print(i,'\\n', df[i].unique())"
   ]
  },
  {
   "cell_type": "code",
   "execution_count": 13,
   "metadata": {
    "id": "89tMFEQ2k_M7"
   },
   "outputs": [],
   "source": [
    "df['region'] = df['region'].replace('USA', 'United States')\n",
    "df['device'] = df['device'].replace('IPHONE', 'iPhone')\n",
    "df['device'] = df['device'].replace('MAC', 'Mac')\n"
   ]
  },
  {
   "cell_type": "code",
   "execution_count": 14,
   "metadata": {
    "id": "-uOPKHlVlGo8"
   },
   "outputs": [
    {
     "name": "stdout",
     "output_type": "stream",
     "text": [
      "region \n",
      " ['United States']\n",
      "device \n",
      " ['iPhone' 'Mac' 'Android' 'PC']\n",
      "channel \n",
      " ['organic' 'TipTop' 'FaceBoom' 'MediaTornado']\n"
     ]
    }
   ],
   "source": [
    "unique_c = ['region', 'device', 'channel']\n",
    "for i in unique_c:\n",
    "  print(i,'\\n', df[i].unique())"
   ]
  },
  {
   "cell_type": "markdown",
   "metadata": {
    "id": "GMcnDpOmlKhU"
   },
   "source": [
    "`user_id`, `session_start` и `session_end` - уникальные данные, поэтому нахождение неявных дубликатов среди них невозможно. С помощью метода `replace()` были заменены неявные дубликаты в столбцах `region`, `device` и `channel`."
   ]
  },
  {
   "cell_type": "markdown",
   "metadata": {
    "id": "md9GhfYMlbi7"
   },
   "source": [
    "### 5. Провека типов данных"
   ]
  },
  {
   "cell_type": "code",
   "execution_count": 15,
   "metadata": {
    "id": "lXTroENaluCW"
   },
   "outputs": [],
   "source": [
    "df['session_start'] = pd.to_datetime(df['session_start'], format=\"%d.%m.%Y %H:%M\", errors='coerce')\n",
    "df['session_end']   = pd.to_datetime(df['session_end'], format=\"%d.%m.%Y %H:%M\", errors='coerce')"
   ]
  },
  {
   "cell_type": "code",
   "execution_count": 16,
   "metadata": {
    "id": "WXhXgu29lop3"
   },
   "outputs": [
    {
     "name": "stdout",
     "output_type": "stream",
     "text": [
      "<class 'pandas.core.frame.DataFrame'>\n",
      "RangeIndex: 952 entries, 0 to 951\n",
      "Data columns (total 6 columns):\n",
      " #   Column         Non-Null Count  Dtype         \n",
      "---  ------         --------------  -----         \n",
      " 0   user_id        952 non-null    object        \n",
      " 1   region         952 non-null    object        \n",
      " 2   device         952 non-null    object        \n",
      " 3   channel        952 non-null    object        \n",
      " 4   session_start  952 non-null    datetime64[ns]\n",
      " 5   session_end    952 non-null    datetime64[ns]\n",
      "dtypes: datetime64[ns](2), object(4)\n",
      "memory usage: 44.8+ KB\n"
     ]
    }
   ],
   "source": [
    "df.info()"
   ]
  },
  {
   "cell_type": "markdown",
   "metadata": {
    "id": "DPDBNN4dlx7W"
   },
   "source": [
    "`user_id` остается строкой, потому что используется как идентификатор, а не для вычислений.\n",
    "`region`, `device`, `channel` являются категориальными переменными и выбираются из ограниченного набора данных.\n",
    "`session_start`, `session_end` преобразованы в формат `datetime`, чтобы можно было вычислять время длительности сессии."
   ]
  },
  {
   "cell_type": "markdown",
   "metadata": {
    "id": "lzr0SgqlnmHy"
   },
   "source": [
    "### 6. Группировка данных"
   ]
  },
  {
   "cell_type": "markdown",
   "metadata": {
    "id": "QG_dbwzfmZoS"
   },
   "source": [
    "#### Задание 1"
   ]
  },
  {
   "cell_type": "markdown",
   "metadata": {
    "id": "CyCKTB4DmciW"
   },
   "source": [
    "*Группировка - region и количество устройств (device )*"
   ]
  },
  {
   "cell_type": "code",
   "execution_count": 17,
   "metadata": {
    "id": "tp8Bl1gumYlI"
   },
   "outputs": [
    {
     "name": "stdout",
     "output_type": "stream",
     "text": [
      "region         device \n",
      "United States  Android    185\n",
      "               Mac        242\n",
      "               PC         103\n",
      "               iPhone     422\n",
      "dtype: int64\n"
     ]
    }
   ],
   "source": [
    "print(df.groupby(['region', 'device']).size())\n"
   ]
  },
  {
   "cell_type": "markdown",
   "metadata": {
    "id": "jLmhNuq0mms3"
   },
   "source": [
    "Группируются строки region + device и считается количество строк. \n",
    "В результате группировки по региону и типу устройства видно, что все пользователи из United States. Наиболее популярными устройствами оказались iPhone - 422 сессии и Mac - 242 сессии, а Android и PC используются реже, 185 и 103 сессии соответственно. Пользователи чаще пользуются мобильными устройствами (iPhone и Android вместе составляют более половины всех записей). Следовательно, аудитория преимущественно мобильная, с уклоном в сторону продукции Apple."
   ]
  },
  {
   "cell_type": "markdown",
   "metadata": {
    "id": "j0isGCzEne7a"
   },
   "source": [
    "#### Задание 2"
   ]
  },
  {
   "cell_type": "markdown",
   "metadata": {
    "id": "kE2vLBWbne7a"
   },
   "source": [
    "*Группировка - device и количество рекламных источников каждого типа (channel). Создать датафрейм. Переименовать столбец с количеством в “сount”. Отсортировать по убыванию столбца “count”.* "
   ]
  },
  {
   "cell_type": "code",
   "execution_count": 18,
   "metadata": {
    "id": "ttn78Zaene7a"
   },
   "outputs": [
    {
     "name": "stdout",
     "output_type": "stream",
     "text": [
      "     device       channel  count\n",
      "15   iPhone       organic    249\n",
      "7       Mac       organic    172\n",
      "3   Android       organic    115\n",
      "14   iPhone        TipTop     78\n",
      "11       PC       organic     72\n",
      "12   iPhone      FaceBoom     65\n",
      "4       Mac      FaceBoom     36\n",
      "0   Android      FaceBoom     33\n",
      "13   iPhone  MediaTornado     30\n",
      "2   Android        TipTop     26\n",
      "6       Mac        TipTop     24\n",
      "8        PC      FaceBoom     15\n",
      "10       PC        TipTop     14\n",
      "1   Android  MediaTornado     11\n",
      "5       Mac  MediaTornado     10\n",
      "9        PC  MediaTornado      2\n"
     ]
    }
   ],
   "source": [
    "print(df.groupby(['device', 'channel']).size().reset_index(name='count').sort_values(by='count', ascending=False))\n"
   ]
  },
  {
   "cell_type": "markdown",
   "metadata": {
    "id": "HCyyeAu6ne7a"
   },
   "source": [
    "Параметр `ascending` - порядок сортировки. По умолчанию для него установлено значение True. Для сортировки по убыванию используется значение False.\n",
    "* Organic - самый крупный источник, что значит основная часть пользователей приходит естественным образом, без прямой рекламы. \n",
    "* Пользователи iPhone - более восприимчивы к маркетинговым источникам.\n",
    "* MediaTornado почти не работает для Mac, Android и PC.\n"
   ]
  },
  {
   "cell_type": "markdown",
   "metadata": {
    "id": "_3fHGp64nhUJ"
   },
   "source": [
    "#### Задание 3"
   ]
  },
  {
   "cell_type": "markdown",
   "metadata": {
    "id": "_Bc4ehyKnhUJ"
   },
   "source": [
    "*Сводная таблица (pivot_table) - количество пользователей для каждого канала (device). Отсортировать по убыванию количества.*"
   ]
  },
  {
   "cell_type": "code",
   "execution_count": 19,
   "metadata": {
    "id": "siDovPvQnhUJ"
   },
   "outputs": [
    {
     "name": "stdout",
     "output_type": "stream",
     "text": [
      "device        Android  Mac  PC  iPhone  total\n",
      "channel                                      \n",
      "organic           115  172  72     249    608\n",
      "FaceBoom           33   36  15      65    149\n",
      "TipTop             26   24  14      78    142\n",
      "MediaTornado       11   10   2      30     53\n"
     ]
    }
   ],
   "source": [
    "pivot = df.pivot_table(\n",
    "    index='channel',      # строки \n",
    "    columns='device',   # столбцы\n",
    "    values='user_id',    \n",
    "    aggfunc='count',     # функция агрегирования — количество\n",
    ")\n",
    "pivot['total'] = pivot.sum(axis=1)\n",
    "pivot = pivot.sort_values(by='total', ascending=False)\n",
    "print(pivot)"
   ]
  },
  {
   "cell_type": "markdown",
   "metadata": {
    "id": "1-vw8iyUnhUK"
   },
   "source": [
    "Главный канал привлечения пользователей - organic. Основная часть аудитории приходит без прямых рекламных затрат.\n",
    "FaceBoom и TipTop привели примерно одинаковое количество пользователей (149 и 142). \n",
    "MediaTornado отстаёт - всего 53 пользователя."
   ]
  },
  {
   "cell_type": "markdown",
   "metadata": {
    "id": "FOlw74xCniNo"
   },
   "source": [
    "#### Задание 4"
   ]
  },
  {
   "cell_type": "markdown",
   "metadata": {
    "id": "4tvYwT25niNq"
   },
   "source": [
    "*Сводная таблица (pivot_table) - количество пользователей для каждого устройства (device) - строки и канала - столбцы. Отсортировать по возрастанию столбца device.*"
   ]
  },
  {
   "cell_type": "code",
   "execution_count": 20,
   "metadata": {
    "id": "TfJ719g6niNq"
   },
   "outputs": [
    {
     "name": "stdout",
     "output_type": "stream",
     "text": [
      "channel  FaceBoom  MediaTornado  TipTop  organic  total\n",
      "device                                                 \n",
      "iPhone         65            30      78      249    422\n",
      "Mac            36            10      24      172    242\n",
      "Android        33            11      26      115    185\n",
      "PC             15             2      14       72    103\n"
     ]
    }
   ],
   "source": [
    "pivot = df.pivot_table(\n",
    "    index='device',      # строки\n",
    "    columns='channel',   # столбцы\n",
    "    values='user_id',    \n",
    "    aggfunc='count',     # функция агрегирования — количество\n",
    ")\n",
    "pivot['total'] = pivot.sum(axis=1)\n",
    "pivot = pivot.sort_values(by='total', ascending=False)\n",
    "print(pivot)"
   ]
  },
  {
   "cell_type": "markdown",
   "metadata": {
    "id": "yqJqvk5qniNr"
   },
   "source": [
    "Лидер по пользователям - iPhone.\n",
    "Всего 422 пользователя.\n",
    "Главный канал привлеченяи organic - 249 пользователей.\n",
    "\n",
    "На втором месте - Mac.\n",
    "242 пользователя, основной вклад тоже organic - 172.\n",
    "В рекламных каналах показатели заметно ниже.\n",
    "\n",
    "Android и PC — меньшая доля аудитории.\n",
    "Android — 185 пользователей, PC — 103.\n",
    "В обоих случаях organic остаётся главным источником."
   ]
  },
  {
   "cell_type": "markdown",
   "metadata": {
    "id": "TpnXb6gip3S8"
   },
   "source": [
    "### Вывод"
   ]
  },
  {
   "cell_type": "markdown",
   "metadata": {
    "id": "nqLa096jM1Z8"
   },
   "source": [
    "\n",
    "В ходе выполнения лабораторной работы был проведён предварительный анализ данных `visits.csv` о пользовательских сессиях. Датасет содержал информацию о визитах: идентификатор пользователя, регион, тип устройства, источник привлечения, а также дату и время начала и окончания сессии. Предметная область исследования связана с анализом пользователей, используемого устройства и канала привлечения. На этапе предобработки данных были приведены названия столбцов к единому формату (нижний регистр), удалены строки с пропусками, удалены полные дубликаты строк для исключения искажений, устранены неявные дубликаты: USA заменено на United States, MAC на Mac, IPHONE на iPhone, преобразованы временные поля session_start и session_end в формат datetime.\n",
    "\n",
    "Проведённые группировки показали, что весь набор данных относится к региону United States. Наиболее активно пользователи заходят с устройств iPhone (422) и Mac (242), тогда как доля Android (185) и особенно PC (103) заметно меньше. Таким образом, аудитория в большей степени мобильная, с явным смещением в сторону продукции Apple.\n",
    "\n",
    "Основной источник привлечения - organic (608 пользователей), что указывает на высокую долю прямых заходов и переходов без рекламы. Среди платных каналов лидируют FaceBoom (149 пользователей) и TipTop (142), в то время как MediaTornado привёл лишь 53 пользователя. Во всех каналах и на всех устройствах наблюдается преобладание пользователей с iPhone.\n",
    "\n",
    "Аудитория проекта - в основном мобильные пользователи, преимущественно владельцы iPhone. Рекламные кампании на FaceBoom и TipTop дают сопоставимый эффект, тогда как MediaTornado менее эффективен. Пользователи PC составляют наименьшую долю аудитории, что может указывать на необходимость приоритизации мобильных платформ при разработке и продвижении.\n",
    "\n",
    "В лабораторной работе была проведена работа с библиотекой pandas. На практике были произведены подготовка данных, устранение ошибок и дубликатов, обработка различных типов данных. Были изучены такие понятия как группировка и категоризация. "
   ]
  },
  {
   "cell_type": "markdown",
   "metadata": {
    "id": "Sn3y7og_vjGG"
   },
   "source": [
    "### Дополнительное задание"
   ]
  },
  {
   "cell_type": "markdown",
   "metadata": {
    "id": "rR6WgHXYvlqD"
   },
   "source": [
    "10. Добавить столбец - “Длительность сессии” (расчетный). Создать столбец\n",
    "“Категория длительности” (с помощью категоризации). Выделить минимум 3\n",
    "категории (низкая, высокая, средняя), фильтрацию для уровня длительности\n",
    "выбрать самостоятельно, аргументировать выбор. Создать группировку:\n",
    "средняя, минимальная, максимальная, медианная длительность сессии по\n",
    "категории длительности и устройству. "
   ]
  },
  {
   "cell_type": "code",
   "execution_count": 21,
   "metadata": {
    "id": "wG5TGQpevlBq"
   },
   "outputs": [],
   "source": [
    "df['session_duration_min'] = (df['session_end'] - df['session_start']).dt.total_seconds() / 60\n",
    "bins = [0, 5, 30, float('inf')]    \n",
    "labels = ['низкая', 'средняя', 'высокая']\n",
    "\n",
    "df['duration_category'] = pd.cut(df['session_duration_min'], bins=bins, labels=labels)\n"
   ]
  },
  {
   "cell_type": "code",
   "execution_count": 22,
   "metadata": {},
   "outputs": [
    {
     "data": {
      "text/html": [
       "<div>\n",
       "<style scoped>\n",
       "    .dataframe tbody tr th:only-of-type {\n",
       "        vertical-align: middle;\n",
       "    }\n",
       "\n",
       "    .dataframe tbody tr th {\n",
       "        vertical-align: top;\n",
       "    }\n",
       "\n",
       "    .dataframe thead th {\n",
       "        text-align: right;\n",
       "    }\n",
       "</style>\n",
       "<table border=\"1\" class=\"dataframe\">\n",
       "  <thead>\n",
       "    <tr style=\"text-align: right;\">\n",
       "      <th></th>\n",
       "      <th>user_id</th>\n",
       "      <th>region</th>\n",
       "      <th>device</th>\n",
       "      <th>channel</th>\n",
       "      <th>session_start</th>\n",
       "      <th>session_end</th>\n",
       "      <th>session_duration_min</th>\n",
       "      <th>duration_category</th>\n",
       "    </tr>\n",
       "  </thead>\n",
       "  <tbody>\n",
       "    <tr>\n",
       "      <th>0</th>\n",
       "      <td>9,81449E+11</td>\n",
       "      <td>United States</td>\n",
       "      <td>iPhone</td>\n",
       "      <td>organic</td>\n",
       "      <td>2019-05-01 02:36:00</td>\n",
       "      <td>2019-05-01 02:45:00</td>\n",
       "      <td>9.0</td>\n",
       "      <td>средняя</td>\n",
       "    </tr>\n",
       "    <tr>\n",
       "      <th>1</th>\n",
       "      <td>2,78966E+11</td>\n",
       "      <td>United States</td>\n",
       "      <td>iPhone</td>\n",
       "      <td>organic</td>\n",
       "      <td>2019-05-01 04:46:00</td>\n",
       "      <td>2019-05-01 04:47:00</td>\n",
       "      <td>1.0</td>\n",
       "      <td>низкая</td>\n",
       "    </tr>\n",
       "    <tr>\n",
       "      <th>2</th>\n",
       "      <td>5,90706E+11</td>\n",
       "      <td>United States</td>\n",
       "      <td>Mac</td>\n",
       "      <td>organic</td>\n",
       "      <td>2019-05-01 14:09:00</td>\n",
       "      <td>2019-05-01 15:32:00</td>\n",
       "      <td>83.0</td>\n",
       "      <td>высокая</td>\n",
       "    </tr>\n",
       "    <tr>\n",
       "      <th>3</th>\n",
       "      <td>3,26434E+11</td>\n",
       "      <td>United States</td>\n",
       "      <td>Android</td>\n",
       "      <td>TipTop</td>\n",
       "      <td>2019-05-01 00:29:00</td>\n",
       "      <td>2019-05-01 00:54:00</td>\n",
       "      <td>25.0</td>\n",
       "      <td>средняя</td>\n",
       "    </tr>\n",
       "    <tr>\n",
       "      <th>4</th>\n",
       "      <td>3,49774E+11</td>\n",
       "      <td>United States</td>\n",
       "      <td>Mac</td>\n",
       "      <td>organic</td>\n",
       "      <td>2019-05-01 03:33:00</td>\n",
       "      <td>2019-05-01 03:57:00</td>\n",
       "      <td>24.0</td>\n",
       "      <td>средняя</td>\n",
       "    </tr>\n",
       "    <tr>\n",
       "      <th>5</th>\n",
       "      <td>43958116050</td>\n",
       "      <td>United States</td>\n",
       "      <td>Android</td>\n",
       "      <td>organic</td>\n",
       "      <td>2019-05-01 09:03:00</td>\n",
       "      <td>2019-05-01 10:08:00</td>\n",
       "      <td>65.0</td>\n",
       "      <td>высокая</td>\n",
       "    </tr>\n",
       "    <tr>\n",
       "      <th>6</th>\n",
       "      <td>1,85365E+11</td>\n",
       "      <td>United States</td>\n",
       "      <td>iPhone</td>\n",
       "      <td>organic</td>\n",
       "      <td>2019-05-01 09:37:00</td>\n",
       "      <td>2019-05-01 10:00:00</td>\n",
       "      <td>23.0</td>\n",
       "      <td>средняя</td>\n",
       "    </tr>\n",
       "    <tr>\n",
       "      <th>7</th>\n",
       "      <td>1,00971E+11</td>\n",
       "      <td>United States</td>\n",
       "      <td>Mac</td>\n",
       "      <td>TipTop</td>\n",
       "      <td>2019-05-01 04:39:00</td>\n",
       "      <td>2019-05-01 04:57:00</td>\n",
       "      <td>18.0</td>\n",
       "      <td>средняя</td>\n",
       "    </tr>\n",
       "    <tr>\n",
       "      <th>8</th>\n",
       "      <td>3,70456E+11</td>\n",
       "      <td>United States</td>\n",
       "      <td>iPhone</td>\n",
       "      <td>organic</td>\n",
       "      <td>2019-05-01 14:44:00</td>\n",
       "      <td>2019-05-01 15:41:00</td>\n",
       "      <td>57.0</td>\n",
       "      <td>высокая</td>\n",
       "    </tr>\n",
       "    <tr>\n",
       "      <th>9</th>\n",
       "      <td>1,41838E+11</td>\n",
       "      <td>United States</td>\n",
       "      <td>Mac</td>\n",
       "      <td>FaceBoom</td>\n",
       "      <td>2019-05-01 06:20:00</td>\n",
       "      <td>2019-05-01 06:54:00</td>\n",
       "      <td>34.0</td>\n",
       "      <td>высокая</td>\n",
       "    </tr>\n",
       "    <tr>\n",
       "      <th>10</th>\n",
       "      <td>9,24309E+11</td>\n",
       "      <td>United States</td>\n",
       "      <td>iPhone</td>\n",
       "      <td>organic</td>\n",
       "      <td>2019-05-01 20:03:00</td>\n",
       "      <td>2019-05-01 20:19:00</td>\n",
       "      <td>16.0</td>\n",
       "      <td>средняя</td>\n",
       "    </tr>\n",
       "    <tr>\n",
       "      <th>11</th>\n",
       "      <td>7,74938E+11</td>\n",
       "      <td>United States</td>\n",
       "      <td>iPhone</td>\n",
       "      <td>MediaTornado</td>\n",
       "      <td>2019-05-01 14:01:00</td>\n",
       "      <td>2019-05-01 14:29:00</td>\n",
       "      <td>28.0</td>\n",
       "      <td>средняя</td>\n",
       "    </tr>\n",
       "    <tr>\n",
       "      <th>12</th>\n",
       "      <td>2,44879E+11</td>\n",
       "      <td>United States</td>\n",
       "      <td>iPhone</td>\n",
       "      <td>MediaTornado</td>\n",
       "      <td>2019-05-01 01:59:00</td>\n",
       "      <td>2019-05-01 02:21:00</td>\n",
       "      <td>22.0</td>\n",
       "      <td>средняя</td>\n",
       "    </tr>\n",
       "    <tr>\n",
       "      <th>13</th>\n",
       "      <td>1,57877E+11</td>\n",
       "      <td>United States</td>\n",
       "      <td>Mac</td>\n",
       "      <td>organic</td>\n",
       "      <td>2019-05-01 10:25:00</td>\n",
       "      <td>2019-05-01 10:35:00</td>\n",
       "      <td>10.0</td>\n",
       "      <td>средняя</td>\n",
       "    </tr>\n",
       "    <tr>\n",
       "      <th>14</th>\n",
       "      <td>5,24629E+11</td>\n",
       "      <td>United States</td>\n",
       "      <td>Mac</td>\n",
       "      <td>organic</td>\n",
       "      <td>2019-05-01 17:06:00</td>\n",
       "      <td>2019-05-01 18:05:00</td>\n",
       "      <td>59.0</td>\n",
       "      <td>высокая</td>\n",
       "    </tr>\n",
       "    <tr>\n",
       "      <th>15</th>\n",
       "      <td>1,36227E+11</td>\n",
       "      <td>United States</td>\n",
       "      <td>PC</td>\n",
       "      <td>organic</td>\n",
       "      <td>2019-05-01 19:34:00</td>\n",
       "      <td>2019-05-01 19:39:00</td>\n",
       "      <td>5.0</td>\n",
       "      <td>низкая</td>\n",
       "    </tr>\n",
       "    <tr>\n",
       "      <th>16</th>\n",
       "      <td>6,84979E+11</td>\n",
       "      <td>United States</td>\n",
       "      <td>iPhone</td>\n",
       "      <td>TipTop</td>\n",
       "      <td>2019-05-01 01:51:00</td>\n",
       "      <td>2019-05-01 02:12:00</td>\n",
       "      <td>21.0</td>\n",
       "      <td>средняя</td>\n",
       "    </tr>\n",
       "    <tr>\n",
       "      <th>17</th>\n",
       "      <td>9,05776E+11</td>\n",
       "      <td>United States</td>\n",
       "      <td>iPhone</td>\n",
       "      <td>organic</td>\n",
       "      <td>2019-05-01 14:26:00</td>\n",
       "      <td>2019-05-01 14:35:00</td>\n",
       "      <td>9.0</td>\n",
       "      <td>средняя</td>\n",
       "    </tr>\n",
       "    <tr>\n",
       "      <th>18</th>\n",
       "      <td>15174034813</td>\n",
       "      <td>United States</td>\n",
       "      <td>iPhone</td>\n",
       "      <td>FaceBoom</td>\n",
       "      <td>2019-05-01 15:34:00</td>\n",
       "      <td>2019-05-01 15:56:00</td>\n",
       "      <td>22.0</td>\n",
       "      <td>средняя</td>\n",
       "    </tr>\n",
       "    <tr>\n",
       "      <th>19</th>\n",
       "      <td>1,88246E+11</td>\n",
       "      <td>United States</td>\n",
       "      <td>Android</td>\n",
       "      <td>FaceBoom</td>\n",
       "      <td>2019-05-01 23:09:00</td>\n",
       "      <td>2019-05-01 23:21:00</td>\n",
       "      <td>12.0</td>\n",
       "      <td>средняя</td>\n",
       "    </tr>\n",
       "  </tbody>\n",
       "</table>\n",
       "</div>"
      ],
      "text/plain": [
       "        user_id         region   device       channel       session_start  \\\n",
       "0   9,81449E+11  United States   iPhone       organic 2019-05-01 02:36:00   \n",
       "1   2,78966E+11  United States   iPhone       organic 2019-05-01 04:46:00   \n",
       "2   5,90706E+11  United States      Mac       organic 2019-05-01 14:09:00   \n",
       "3   3,26434E+11  United States  Android        TipTop 2019-05-01 00:29:00   \n",
       "4   3,49774E+11  United States      Mac       organic 2019-05-01 03:33:00   \n",
       "5   43958116050  United States  Android       organic 2019-05-01 09:03:00   \n",
       "6   1,85365E+11  United States   iPhone       organic 2019-05-01 09:37:00   \n",
       "7   1,00971E+11  United States      Mac        TipTop 2019-05-01 04:39:00   \n",
       "8   3,70456E+11  United States   iPhone       organic 2019-05-01 14:44:00   \n",
       "9   1,41838E+11  United States      Mac      FaceBoom 2019-05-01 06:20:00   \n",
       "10  9,24309E+11  United States   iPhone       organic 2019-05-01 20:03:00   \n",
       "11  7,74938E+11  United States   iPhone  MediaTornado 2019-05-01 14:01:00   \n",
       "12  2,44879E+11  United States   iPhone  MediaTornado 2019-05-01 01:59:00   \n",
       "13  1,57877E+11  United States      Mac       organic 2019-05-01 10:25:00   \n",
       "14  5,24629E+11  United States      Mac       organic 2019-05-01 17:06:00   \n",
       "15  1,36227E+11  United States       PC       organic 2019-05-01 19:34:00   \n",
       "16  6,84979E+11  United States   iPhone        TipTop 2019-05-01 01:51:00   \n",
       "17  9,05776E+11  United States   iPhone       organic 2019-05-01 14:26:00   \n",
       "18  15174034813  United States   iPhone      FaceBoom 2019-05-01 15:34:00   \n",
       "19  1,88246E+11  United States  Android      FaceBoom 2019-05-01 23:09:00   \n",
       "\n",
       "           session_end  session_duration_min duration_category  \n",
       "0  2019-05-01 02:45:00                   9.0           средняя  \n",
       "1  2019-05-01 04:47:00                   1.0            низкая  \n",
       "2  2019-05-01 15:32:00                  83.0           высокая  \n",
       "3  2019-05-01 00:54:00                  25.0           средняя  \n",
       "4  2019-05-01 03:57:00                  24.0           средняя  \n",
       "5  2019-05-01 10:08:00                  65.0           высокая  \n",
       "6  2019-05-01 10:00:00                  23.0           средняя  \n",
       "7  2019-05-01 04:57:00                  18.0           средняя  \n",
       "8  2019-05-01 15:41:00                  57.0           высокая  \n",
       "9  2019-05-01 06:54:00                  34.0           высокая  \n",
       "10 2019-05-01 20:19:00                  16.0           средняя  \n",
       "11 2019-05-01 14:29:00                  28.0           средняя  \n",
       "12 2019-05-01 02:21:00                  22.0           средняя  \n",
       "13 2019-05-01 10:35:00                  10.0           средняя  \n",
       "14 2019-05-01 18:05:00                  59.0           высокая  \n",
       "15 2019-05-01 19:39:00                   5.0            низкая  \n",
       "16 2019-05-01 02:12:00                  21.0           средняя  \n",
       "17 2019-05-01 14:35:00                   9.0           средняя  \n",
       "18 2019-05-01 15:56:00                  22.0           средняя  \n",
       "19 2019-05-01 23:21:00                  12.0           средняя  "
      ]
     },
     "execution_count": 22,
     "metadata": {},
     "output_type": "execute_result"
    }
   ],
   "source": [
    "df.head(20)\n"
   ]
  },
  {
   "cell_type": "code",
   "execution_count": 23,
   "metadata": {},
   "outputs": [
    {
     "name": "stdout",
     "output_type": "stream",
     "text": [
      "   duration_category   device       mean   min    max  median\n",
      "0             низкая  Android   3.045455   1.0    5.0     3.5\n",
      "1             низкая      Mac   2.791667   1.0    5.0     3.0\n",
      "2             низкая       PC   2.875000   1.0    5.0     3.0\n",
      "3             низкая   iPhone   2.720000   1.0    5.0     3.0\n",
      "4            средняя  Android  15.955056   6.0   30.0    15.0\n",
      "5            средняя      Mac  16.373134   6.0   30.0    15.5\n",
      "6            средняя       PC  16.217391   6.0   28.0    16.5\n",
      "7            средняя   iPhone  16.742268   6.0   30.0    16.0\n",
      "8            высокая  Android  57.904110  31.0  114.0    53.0\n",
      "9            высокая      Mac  56.812500  31.0  154.0    50.0\n",
      "10           высокая       PC  60.051282  32.0  137.0    51.0\n",
      "11           высокая   iPhone  57.173333  31.0  262.0    49.0\n"
     ]
    }
   ],
   "source": [
    "agg = df.groupby(['duration_category', 'device'],observed=True)['session_duration_min'].agg(\n",
    "    ['mean', 'min', 'max', 'median']).reset_index()\n",
    "\n",
    "print(agg)"
   ]
  },
  {
   "cell_type": "markdown",
   "metadata": {
    "id": "y-qpTuhTvon3"
   },
   "source": [
    "«Низкая» и «средняя» категории не сильно зависят от устройства. В высокой категории у PC устойчиво высокое среднее время, а у iPhone необычно высокое максимальное время сессий."
   ]
  },
  {
   "cell_type": "markdown",
   "metadata": {
    "id": "rR6WgHXYvlqD"
   },
   "source": [
    "1. Добавить столбец - “Длительность сессии” (расчетный). Выполнить группировку: средняя и медианная длительность сессии по устройствам."
   ]
  },
  {
   "cell_type": "code",
   "execution_count": 25,
   "metadata": {},
   "outputs": [
    {
     "name": "stdout",
     "output_type": "stream",
     "text": [
      "    device  mean_session  median_session\n",
      "0  Android     30.886486            22.0\n",
      "1      Mac     28.123967            20.0\n",
      "2       PC     30.427184            20.0\n",
      "3   iPhone     28.502370            21.0\n"
     ]
    }
   ],
   "source": [
    "grouped = df.groupby(\"device\").agg(\n",
    "    mean_session=(\"session_duration_min\", \"mean\"),\n",
    "    median_session=(\"session_duration_min\", \"median\")\n",
    ").reset_index()\n",
    "\n",
    "print(grouped)\n"
   ]
  },
  {
   "cell_type": "markdown",
   "metadata": {
    "id": "y-qpTuhTvon3"
   },
   "source": [
    "Средняя длительность сессий колеблется от 28 до 31 минут.\n",
    "Медианные значения ещё ближе: 20-22 минуты.\n",
    "отсюда следует, что независимо от устройства пользователи проводят примерно одинаковое время на ресурсе.\n",
    "\n",
    "Везде среднее выше медианы. значит, есть часть пользователей с долгими сессиями."
   ]
  },
  {
   "cell_type": "markdown",
   "metadata": {
    "id": "y-qpTuhTvon3"
   },
   "source": [
    "15. Добавить столбец - “Длительность сессии” (расчетный). Отфильтровать набор данных. Выбрать только те записи, средняя длительность на которых выше определенного числа (число выбрать самостоятельно) + топ 2 устройства по количеству записей . Для отфильтрованного набора данных выполнить группировку: устройство и средняя+медианная+максимальная+ минимальная длительность."
   ]
  },
  {
   "cell_type": "code",
   "execution_count": 30,
   "metadata": {},
   "outputs": [
    {
     "name": "stdout",
     "output_type": "stream",
     "text": [
      "   device       mean  min    max  median\n",
      "0     Mac  28.596639  1.0  154.0    20.0\n",
      "1  iPhone  28.706444  1.0  262.0    21.0\n"
     ]
    }
   ],
   "source": [
    "device_means = df.groupby('device')['session_duration_min'].mean().reset_index()\n",
    "threshold = 25  \n",
    "devices_above = device_means[device_means['session_duration_min'] > threshold]['device'].tolist()\n",
    "df = df[df['session_duration_min'] > 0].copy()\n",
    "filtered = df[df['device'].isin(devices_above)].copy()\n",
    "top2_devices = filtered['device'].value_counts().nlargest(2).index.tolist()\n",
    "top2_df = filtered[filtered['device'].isin(top2_devices)]\n",
    "agg = top2_df.groupby(['device'], observed=True)['session_duration_min'].agg(\n",
    "    ['mean', 'min', 'max', 'median']\n",
    ").reset_index()\n",
    "print(agg)"
   ]
  },
  {
   "cell_type": "markdown",
   "metadata": {
    "id": "y-qpTuhTvon3"
   },
   "source": [
    "Поведение пользователей на Mac и iPhone схоже: медианные значения (20–21 мин) практически одинаковы.\n",
    "Средние значения выше медианы, что значит в выборке есть небольшая доля длинных сессий, которые сильно влияют на статистику.\n",
    "Максимальные сессии показывают, что есть пользователи с длинными сессиями, но это исключения."
   ]
  },
  {
   "cell_type": "markdown",
   "metadata": {
    "id": "y-qpTuhTvon3"
   },
   "source": [
    "23. Добавить столбец - “Длительность сессии” (расчетный). Создать столбец “Категория длительности” (с помощью категоризации). Выделить минимум 3 категории (низкая, высокая, средняя), фильтрацию для уровня длительности выбрать самостоятельно, аргументировать выбор. Отфильтровать набор данных. Выбрать только высокую длительность сессии + топ 2 устройства и топ 2 канала по популярности (количество записей). Создать группировку: средняя, минимальная, максимальная, медианная длительность сессии по каналу."
   ]
  },
  {
   "cell_type": "code",
   "execution_count": 31,
   "metadata": {},
   "outputs": [
    {
     "name": "stdout",
     "output_type": "stream",
     "text": [
      "   channel       mean   min    max  median\n",
      "0   TipTop  54.911765  31.0  111.0    47.5\n",
      "1  organic  57.607843  31.0  262.0    50.0\n"
     ]
    }
   ],
   "source": [
    "high_df = df[df['duration_category'] == 'высокая'].copy()\n",
    "top2_devices = high_df['device'].value_counts().nlargest(2).index.tolist()\n",
    "top2_channels = high_df['channel'].value_counts().nlargest(2).index.tolist()\n",
    "filtered = high_df[(high_df['device'].isin(top2_devices)) & \n",
    "                   (high_df['channel'].isin(top2_channels))]\n",
    "agg = filtered.groupby('channel', observed=True)['session_duration_min'].agg(\n",
    "    ['mean', 'min', 'max', 'median']\n",
    ").reset_index()\n",
    "print(agg)"
   ]
  },
  {
   "cell_type": "markdown",
   "metadata": {
    "id": "y-qpTuhTvon3"
   },
   "source": [
    "При выполнении 10 задания были определены границы 3 диапозонов. \n",
    "\n",
    "Низкая длительность (0–5 минут). Данный диапазон отражает сессии, в которых пользователь провёл минимальное время. Обычно это означает быстрый выход из системы.\n",
    "\n",
    "Средняя длительность (6–30 минут). За 6–30 минут пользователь успевает выполнить одну или несколько целевых задач.\n",
    "\n",
    "Высокая длительность (более 30 минут). Сессии свыше 30 минут показывают значительную вовлечённость пользователей.\n",
    "\n",
    "Средняя длительность сессии высока для обоих каналов. Пользователи проводят почти 1 час в системе. Максимальные сессии показывают, что органический источник может привлекать наиболее вовлеченных пользователей. "
   ]
  }
 ],
 "metadata": {
  "colab": {
   "provenance": []
  },
  "kernelspec": {
   "display_name": "Python 3 (ipykernel)",
   "language": "python",
   "name": "python3"
  },
  "language_info": {
   "codemirror_mode": {
    "name": "ipython",
    "version": 3
   },
   "file_extension": ".py",
   "mimetype": "text/x-python",
   "name": "python",
   "nbconvert_exporter": "python",
   "pygments_lexer": "ipython3",
   "version": "3.13.5"
  }
 },
 "nbformat": 4,
 "nbformat_minor": 4
}
